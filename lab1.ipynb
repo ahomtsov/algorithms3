{
 "metadata": {
  "language_info": {
   "codemirror_mode": {
    "name": "ipython",
    "version": 3
   },
   "file_extension": ".py",
   "mimetype": "text/x-python",
   "name": "python",
   "nbconvert_exporter": "python",
   "pygments_lexer": "ipython3",
   "version": "3.9.0-final"
  },
  "orig_nbformat": 2,
  "kernelspec": {
   "name": "python3",
   "display_name": "Python 3.9.0 64-bit",
   "metadata": {
    "interpreter": {
     "hash": "4a419b2b5c8fa75161a463075e1d1e15a3f9ecf286c9f93798ca15b606b65029"
    }
   }
  }
 },
 "nbformat": 4,
 "nbformat_minor": 2,
 "cells": [
  {
   "cell_type": "code",
   "execution_count": 8,
   "metadata": {},
   "outputs": [
    {
     "output_type": "display_data",
     "data": {
      "application/vnd.plotly.v1+json": {
       "config": {
        "plotlyServerURL": "https://plot.ly"
       },
       "data": [
        {
         "alignmentgroup": "True",
         "base": [
          "1970-01-01 03:00:00",
          "1970-01-01 03:00:01",
          "1970-01-01 03:00:05",
          "1970-01-01 03:00:08",
          "1970-01-01 03:00:21",
          "1970-01-01 03:00:23",
          "1970-01-01 03:00:26",
          "1970-01-01 03:00:27",
          "1970-01-01 03:00:41",
          "1970-01-01 03:00:43",
          "1970-01-01 03:00:46",
          "1970-01-01 03:00:49",
          "1970-01-01 03:00:04",
          "1970-01-01 03:00:10",
          "1970-01-01 03:00:10",
          "1970-01-01 03:00:12",
          "1970-01-01 03:00:23",
          "1970-01-01 03:00:27",
          "1970-01-01 03:00:28",
          "1970-01-01 03:00:31",
          "1970-01-01 03:00:47",
          "1970-01-01 03:00:50",
          "1970-01-01 03:00:51",
          "1970-01-01 03:00:53",
          "1970-01-01 03:00:08",
          "1970-01-01 03:00:10",
          "1970-01-01 03:00:13",
          "1970-01-01 03:00:17",
          "1970-01-01 03:00:29",
          "1970-01-01 03:00:30",
          "1970-01-01 03:00:32",
          "1970-01-01 03:00:35",
          "1970-01-01 03:00:51",
          "1970-01-01 03:00:52",
          "1970-01-01 03:00:55",
          "1970-01-01 03:00:57",
          "1970-01-01 03:00:14",
          "1970-01-01 03:00:15",
          "1970-01-01 03:00:17",
          "1970-01-01 03:00:20",
          "1970-01-01 03:00:33",
          "1970-01-01 03:00:36",
          "1970-01-01 03:00:37",
          "1970-01-01 03:00:39"
         ],
         "hovertemplate": "start=%{base}<br>duration=%{x}<br>process=%{y}<br>block=%{marker.color}<extra></extra>",
         "legendgroup": "",
         "marker": {
          "color": [
           1,
           2,
           3,
           4,
           1,
           2,
           3,
           4,
           1,
           2,
           3,
           4,
           1,
           2,
           3,
           4,
           1,
           2,
           3,
           4,
           1,
           2,
           3,
           4,
           1,
           2,
           3,
           4,
           1,
           2,
           3,
           4,
           1,
           2,
           3,
           4,
           1,
           2,
           3,
           4,
           1,
           2,
           3,
           4
          ],
          "coloraxis": "coloraxis"
         },
         "name": "",
         "offsetgroup": "",
         "orientation": "h",
         "showlegend": false,
         "textposition": "auto",
         "type": "bar",
         "x": [
          1000,
          4000,
          3000,
          4000,
          2000,
          3000,
          1000,
          2000,
          2000,
          3000,
          3000,
          4000,
          2000,
          -4000,
          2000,
          1000,
          4000,
          1000,
          3000,
          4000,
          3000,
          1000,
          2000,
          4000,
          2000,
          3000,
          4000,
          1000,
          1000,
          2000,
          3000,
          4000,
          1000,
          3000,
          2000,
          1000,
          1000,
          2000,
          3000,
          1000,
          3000,
          1000,
          2000,
          2000
         ],
         "xaxis": "x",
         "y": [
          1,
          1,
          1,
          1,
          1,
          1,
          1,
          1,
          1,
          1,
          1,
          1,
          2,
          2,
          2,
          2,
          2,
          2,
          2,
          2,
          2,
          2,
          2,
          2,
          3,
          3,
          3,
          3,
          3,
          3,
          3,
          3,
          3,
          3,
          3,
          3,
          4,
          4,
          4,
          4,
          4,
          4,
          4,
          4
         ],
         "yaxis": "y"
        }
       ],
       "layout": {
        "barmode": "overlay",
        "coloraxis": {
         "colorbar": {
          "title": {
           "text": "block"
          }
         },
         "colorscale": [
          [
           0,
           "#0d0887"
          ],
          [
           0.1111111111111111,
           "#46039f"
          ],
          [
           0.2222222222222222,
           "#7201a8"
          ],
          [
           0.3333333333333333,
           "#9c179e"
          ],
          [
           0.4444444444444444,
           "#bd3786"
          ],
          [
           0.5555555555555556,
           "#d8576b"
          ],
          [
           0.6666666666666666,
           "#ed7953"
          ],
          [
           0.7777777777777778,
           "#fb9f3a"
          ],
          [
           0.8888888888888888,
           "#fdca26"
          ],
          [
           1,
           "#f0f921"
          ]
         ]
        },
        "legend": {
         "tracegroupgap": 0
        },
        "margin": {
         "t": 60
        },
        "template": {
         "data": {
          "bar": [
           {
            "error_x": {
             "color": "#2a3f5f"
            },
            "error_y": {
             "color": "#2a3f5f"
            },
            "marker": {
             "line": {
              "color": "#E5ECF6",
              "width": 0.5
             }
            },
            "type": "bar"
           }
          ],
          "barpolar": [
           {
            "marker": {
             "line": {
              "color": "#E5ECF6",
              "width": 0.5
             }
            },
            "type": "barpolar"
           }
          ],
          "carpet": [
           {
            "aaxis": {
             "endlinecolor": "#2a3f5f",
             "gridcolor": "white",
             "linecolor": "white",
             "minorgridcolor": "white",
             "startlinecolor": "#2a3f5f"
            },
            "baxis": {
             "endlinecolor": "#2a3f5f",
             "gridcolor": "white",
             "linecolor": "white",
             "minorgridcolor": "white",
             "startlinecolor": "#2a3f5f"
            },
            "type": "carpet"
           }
          ],
          "choropleth": [
           {
            "colorbar": {
             "outlinewidth": 0,
             "ticks": ""
            },
            "type": "choropleth"
           }
          ],
          "contour": [
           {
            "colorbar": {
             "outlinewidth": 0,
             "ticks": ""
            },
            "colorscale": [
             [
              0,
              "#0d0887"
             ],
             [
              0.1111111111111111,
              "#46039f"
             ],
             [
              0.2222222222222222,
              "#7201a8"
             ],
             [
              0.3333333333333333,
              "#9c179e"
             ],
             [
              0.4444444444444444,
              "#bd3786"
             ],
             [
              0.5555555555555556,
              "#d8576b"
             ],
             [
              0.6666666666666666,
              "#ed7953"
             ],
             [
              0.7777777777777778,
              "#fb9f3a"
             ],
             [
              0.8888888888888888,
              "#fdca26"
             ],
             [
              1,
              "#f0f921"
             ]
            ],
            "type": "contour"
           }
          ],
          "contourcarpet": [
           {
            "colorbar": {
             "outlinewidth": 0,
             "ticks": ""
            },
            "type": "contourcarpet"
           }
          ],
          "heatmap": [
           {
            "colorbar": {
             "outlinewidth": 0,
             "ticks": ""
            },
            "colorscale": [
             [
              0,
              "#0d0887"
             ],
             [
              0.1111111111111111,
              "#46039f"
             ],
             [
              0.2222222222222222,
              "#7201a8"
             ],
             [
              0.3333333333333333,
              "#9c179e"
             ],
             [
              0.4444444444444444,
              "#bd3786"
             ],
             [
              0.5555555555555556,
              "#d8576b"
             ],
             [
              0.6666666666666666,
              "#ed7953"
             ],
             [
              0.7777777777777778,
              "#fb9f3a"
             ],
             [
              0.8888888888888888,
              "#fdca26"
             ],
             [
              1,
              "#f0f921"
             ]
            ],
            "type": "heatmap"
           }
          ],
          "heatmapgl": [
           {
            "colorbar": {
             "outlinewidth": 0,
             "ticks": ""
            },
            "colorscale": [
             [
              0,
              "#0d0887"
             ],
             [
              0.1111111111111111,
              "#46039f"
             ],
             [
              0.2222222222222222,
              "#7201a8"
             ],
             [
              0.3333333333333333,
              "#9c179e"
             ],
             [
              0.4444444444444444,
              "#bd3786"
             ],
             [
              0.5555555555555556,
              "#d8576b"
             ],
             [
              0.6666666666666666,
              "#ed7953"
             ],
             [
              0.7777777777777778,
              "#fb9f3a"
             ],
             [
              0.8888888888888888,
              "#fdca26"
             ],
             [
              1,
              "#f0f921"
             ]
            ],
            "type": "heatmapgl"
           }
          ],
          "histogram": [
           {
            "marker": {
             "colorbar": {
              "outlinewidth": 0,
              "ticks": ""
             }
            },
            "type": "histogram"
           }
          ],
          "histogram2d": [
           {
            "colorbar": {
             "outlinewidth": 0,
             "ticks": ""
            },
            "colorscale": [
             [
              0,
              "#0d0887"
             ],
             [
              0.1111111111111111,
              "#46039f"
             ],
             [
              0.2222222222222222,
              "#7201a8"
             ],
             [
              0.3333333333333333,
              "#9c179e"
             ],
             [
              0.4444444444444444,
              "#bd3786"
             ],
             [
              0.5555555555555556,
              "#d8576b"
             ],
             [
              0.6666666666666666,
              "#ed7953"
             ],
             [
              0.7777777777777778,
              "#fb9f3a"
             ],
             [
              0.8888888888888888,
              "#fdca26"
             ],
             [
              1,
              "#f0f921"
             ]
            ],
            "type": "histogram2d"
           }
          ],
          "histogram2dcontour": [
           {
            "colorbar": {
             "outlinewidth": 0,
             "ticks": ""
            },
            "colorscale": [
             [
              0,
              "#0d0887"
             ],
             [
              0.1111111111111111,
              "#46039f"
             ],
             [
              0.2222222222222222,
              "#7201a8"
             ],
             [
              0.3333333333333333,
              "#9c179e"
             ],
             [
              0.4444444444444444,
              "#bd3786"
             ],
             [
              0.5555555555555556,
              "#d8576b"
             ],
             [
              0.6666666666666666,
              "#ed7953"
             ],
             [
              0.7777777777777778,
              "#fb9f3a"
             ],
             [
              0.8888888888888888,
              "#fdca26"
             ],
             [
              1,
              "#f0f921"
             ]
            ],
            "type": "histogram2dcontour"
           }
          ],
          "mesh3d": [
           {
            "colorbar": {
             "outlinewidth": 0,
             "ticks": ""
            },
            "type": "mesh3d"
           }
          ],
          "parcoords": [
           {
            "line": {
             "colorbar": {
              "outlinewidth": 0,
              "ticks": ""
             }
            },
            "type": "parcoords"
           }
          ],
          "pie": [
           {
            "automargin": true,
            "type": "pie"
           }
          ],
          "scatter": [
           {
            "marker": {
             "colorbar": {
              "outlinewidth": 0,
              "ticks": ""
             }
            },
            "type": "scatter"
           }
          ],
          "scatter3d": [
           {
            "line": {
             "colorbar": {
              "outlinewidth": 0,
              "ticks": ""
             }
            },
            "marker": {
             "colorbar": {
              "outlinewidth": 0,
              "ticks": ""
             }
            },
            "type": "scatter3d"
           }
          ],
          "scattercarpet": [
           {
            "marker": {
             "colorbar": {
              "outlinewidth": 0,
              "ticks": ""
             }
            },
            "type": "scattercarpet"
           }
          ],
          "scattergeo": [
           {
            "marker": {
             "colorbar": {
              "outlinewidth": 0,
              "ticks": ""
             }
            },
            "type": "scattergeo"
           }
          ],
          "scattergl": [
           {
            "marker": {
             "colorbar": {
              "outlinewidth": 0,
              "ticks": ""
             }
            },
            "type": "scattergl"
           }
          ],
          "scattermapbox": [
           {
            "marker": {
             "colorbar": {
              "outlinewidth": 0,
              "ticks": ""
             }
            },
            "type": "scattermapbox"
           }
          ],
          "scatterpolar": [
           {
            "marker": {
             "colorbar": {
              "outlinewidth": 0,
              "ticks": ""
             }
            },
            "type": "scatterpolar"
           }
          ],
          "scatterpolargl": [
           {
            "marker": {
             "colorbar": {
              "outlinewidth": 0,
              "ticks": ""
             }
            },
            "type": "scatterpolargl"
           }
          ],
          "scatterternary": [
           {
            "marker": {
             "colorbar": {
              "outlinewidth": 0,
              "ticks": ""
             }
            },
            "type": "scatterternary"
           }
          ],
          "surface": [
           {
            "colorbar": {
             "outlinewidth": 0,
             "ticks": ""
            },
            "colorscale": [
             [
              0,
              "#0d0887"
             ],
             [
              0.1111111111111111,
              "#46039f"
             ],
             [
              0.2222222222222222,
              "#7201a8"
             ],
             [
              0.3333333333333333,
              "#9c179e"
             ],
             [
              0.4444444444444444,
              "#bd3786"
             ],
             [
              0.5555555555555556,
              "#d8576b"
             ],
             [
              0.6666666666666666,
              "#ed7953"
             ],
             [
              0.7777777777777778,
              "#fb9f3a"
             ],
             [
              0.8888888888888888,
              "#fdca26"
             ],
             [
              1,
              "#f0f921"
             ]
            ],
            "type": "surface"
           }
          ],
          "table": [
           {
            "cells": {
             "fill": {
              "color": "#EBF0F8"
             },
             "line": {
              "color": "white"
             }
            },
            "header": {
             "fill": {
              "color": "#C8D4E3"
             },
             "line": {
              "color": "white"
             }
            },
            "type": "table"
           }
          ]
         },
         "layout": {
          "annotationdefaults": {
           "arrowcolor": "#2a3f5f",
           "arrowhead": 0,
           "arrowwidth": 1
          },
          "coloraxis": {
           "colorbar": {
            "outlinewidth": 0,
            "ticks": ""
           }
          },
          "colorscale": {
           "diverging": [
            [
             0,
             "#8e0152"
            ],
            [
             0.1,
             "#c51b7d"
            ],
            [
             0.2,
             "#de77ae"
            ],
            [
             0.3,
             "#f1b6da"
            ],
            [
             0.4,
             "#fde0ef"
            ],
            [
             0.5,
             "#f7f7f7"
            ],
            [
             0.6,
             "#e6f5d0"
            ],
            [
             0.7,
             "#b8e186"
            ],
            [
             0.8,
             "#7fbc41"
            ],
            [
             0.9,
             "#4d9221"
            ],
            [
             1,
             "#276419"
            ]
           ],
           "sequential": [
            [
             0,
             "#0d0887"
            ],
            [
             0.1111111111111111,
             "#46039f"
            ],
            [
             0.2222222222222222,
             "#7201a8"
            ],
            [
             0.3333333333333333,
             "#9c179e"
            ],
            [
             0.4444444444444444,
             "#bd3786"
            ],
            [
             0.5555555555555556,
             "#d8576b"
            ],
            [
             0.6666666666666666,
             "#ed7953"
            ],
            [
             0.7777777777777778,
             "#fb9f3a"
            ],
            [
             0.8888888888888888,
             "#fdca26"
            ],
            [
             1,
             "#f0f921"
            ]
           ],
           "sequentialminus": [
            [
             0,
             "#0d0887"
            ],
            [
             0.1111111111111111,
             "#46039f"
            ],
            [
             0.2222222222222222,
             "#7201a8"
            ],
            [
             0.3333333333333333,
             "#9c179e"
            ],
            [
             0.4444444444444444,
             "#bd3786"
            ],
            [
             0.5555555555555556,
             "#d8576b"
            ],
            [
             0.6666666666666666,
             "#ed7953"
            ],
            [
             0.7777777777777778,
             "#fb9f3a"
            ],
            [
             0.8888888888888888,
             "#fdca26"
            ],
            [
             1,
             "#f0f921"
            ]
           ]
          },
          "colorway": [
           "#636efa",
           "#EF553B",
           "#00cc96",
           "#ab63fa",
           "#FFA15A",
           "#19d3f3",
           "#FF6692",
           "#B6E880",
           "#FF97FF",
           "#FECB52"
          ],
          "font": {
           "color": "#2a3f5f"
          },
          "geo": {
           "bgcolor": "white",
           "lakecolor": "white",
           "landcolor": "#E5ECF6",
           "showlakes": true,
           "showland": true,
           "subunitcolor": "white"
          },
          "hoverlabel": {
           "align": "left"
          },
          "hovermode": "closest",
          "mapbox": {
           "style": "light"
          },
          "paper_bgcolor": "white",
          "plot_bgcolor": "#E5ECF6",
          "polar": {
           "angularaxis": {
            "gridcolor": "white",
            "linecolor": "white",
            "ticks": ""
           },
           "bgcolor": "#E5ECF6",
           "radialaxis": {
            "gridcolor": "white",
            "linecolor": "white",
            "ticks": ""
           }
          },
          "scene": {
           "xaxis": {
            "backgroundcolor": "#E5ECF6",
            "gridcolor": "white",
            "gridwidth": 2,
            "linecolor": "white",
            "showbackground": true,
            "ticks": "",
            "zerolinecolor": "white"
           },
           "yaxis": {
            "backgroundcolor": "#E5ECF6",
            "gridcolor": "white",
            "gridwidth": 2,
            "linecolor": "white",
            "showbackground": true,
            "ticks": "",
            "zerolinecolor": "white"
           },
           "zaxis": {
            "backgroundcolor": "#E5ECF6",
            "gridcolor": "white",
            "gridwidth": 2,
            "linecolor": "white",
            "showbackground": true,
            "ticks": "",
            "zerolinecolor": "white"
           }
          },
          "shapedefaults": {
           "line": {
            "color": "#2a3f5f"
           }
          },
          "ternary": {
           "aaxis": {
            "gridcolor": "white",
            "linecolor": "white",
            "ticks": ""
           },
           "baxis": {
            "gridcolor": "white",
            "linecolor": "white",
            "ticks": ""
           },
           "bgcolor": "#E5ECF6",
           "caxis": {
            "gridcolor": "white",
            "linecolor": "white",
            "ticks": ""
           }
          },
          "title": {
           "x": 0.05
          },
          "xaxis": {
           "automargin": true,
           "gridcolor": "white",
           "linecolor": "white",
           "ticks": "",
           "title": {
            "standoff": 15
           },
           "zerolinecolor": "white",
           "zerolinewidth": 2
          },
          "yaxis": {
           "automargin": true,
           "gridcolor": "white",
           "linecolor": "white",
           "ticks": "",
           "title": {
            "standoff": 15
           },
           "zerolinecolor": "white",
           "zerolinewidth": 2
          }
         }
        },
        "xaxis": {
         "anchor": "y",
         "domain": [
          0,
          1
         ],
         "type": "date"
        },
        "yaxis": {
         "anchor": "x",
         "domain": [
          0,
          1
         ],
         "title": {
          "text": "process"
         }
        }
       }
      }
     },
     "metadata": {}
    },
    {
     "output_type": "display_data",
     "data": {
      "application/vnd.plotly.v1+json": {
       "config": {
        "plotlyServerURL": "https://plot.ly"
       },
       "data": [
        {
         "alignmentgroup": "True",
         "base": [
          "1970-01-01 03:00:00",
          "1970-01-01 03:00:01",
          "1970-01-01 03:00:05",
          "1970-01-01 03:00:08",
          "1970-01-01 03:00:12",
          "1970-01-01 03:00:14",
          "1970-01-01 03:00:17",
          "1970-01-01 03:00:18",
          "1970-01-01 03:00:20",
          "1970-01-01 03:00:22",
          "1970-01-01 03:00:25",
          "1970-01-01 03:00:28",
          "1970-01-01 03:00:04",
          "1970-01-01 03:00:10",
          "1970-01-01 03:00:10",
          "1970-01-01 03:00:12",
          "1970-01-01 03:00:14",
          "1970-01-01 03:00:18",
          "1970-01-01 03:00:19",
          "1970-01-01 03:00:22",
          "1970-01-01 03:00:26",
          "1970-01-01 03:00:29",
          "1970-01-01 03:00:30",
          "1970-01-01 03:00:32",
          "1970-01-01 03:00:08",
          "1970-01-01 03:00:10",
          "1970-01-01 03:00:13",
          "1970-01-01 03:00:17",
          "1970-01-01 03:00:20",
          "1970-01-01 03:00:21",
          "1970-01-01 03:00:23",
          "1970-01-01 03:00:26",
          "1970-01-01 03:00:30",
          "1970-01-01 03:00:31",
          "1970-01-01 03:00:34",
          "1970-01-01 03:00:36",
          "1970-01-01 03:00:14",
          "1970-01-01 03:00:15",
          "1970-01-01 03:00:17",
          "1970-01-01 03:00:20",
          "1970-01-01 03:00:24",
          "1970-01-01 03:00:27",
          "1970-01-01 03:00:28",
          "1970-01-01 03:00:30"
         ],
         "hovertemplate": "start=%{base}<br>duration=%{x}<br>process=%{y}<br>block=%{marker.color}<extra></extra>",
         "legendgroup": "",
         "marker": {
          "color": [
           1,
           2,
           3,
           4,
           1,
           2,
           3,
           4,
           1,
           2,
           3,
           4,
           1,
           2,
           3,
           4,
           1,
           2,
           3,
           4,
           1,
           2,
           3,
           4,
           1,
           2,
           3,
           4,
           1,
           2,
           3,
           4,
           1,
           2,
           3,
           4,
           1,
           2,
           3,
           4,
           1,
           2,
           3,
           4
          ],
          "coloraxis": "coloraxis"
         },
         "name": "",
         "offsetgroup": "",
         "orientation": "h",
         "showlegend": false,
         "textposition": "auto",
         "type": "bar",
         "x": [
          1000,
          4000,
          3000,
          4000,
          2000,
          3000,
          1000,
          2000,
          2000,
          3000,
          3000,
          4000,
          2000,
          -4000,
          2000,
          1000,
          4000,
          1000,
          3000,
          4000,
          3000,
          1000,
          2000,
          4000,
          2000,
          3000,
          4000,
          1000,
          1000,
          2000,
          3000,
          4000,
          1000,
          3000,
          2000,
          1000,
          1000,
          2000,
          3000,
          1000,
          3000,
          1000,
          2000,
          2000
         ],
         "xaxis": "x",
         "y": [
          1,
          1,
          1,
          1,
          1,
          1,
          1,
          1,
          1,
          1,
          1,
          1,
          2,
          2,
          2,
          2,
          2,
          2,
          2,
          2,
          2,
          2,
          2,
          2,
          3,
          3,
          3,
          3,
          3,
          3,
          3,
          3,
          3,
          3,
          3,
          3,
          4,
          4,
          4,
          4,
          4,
          4,
          4,
          4
         ],
         "yaxis": "y"
        }
       ],
       "layout": {
        "barmode": "overlay",
        "coloraxis": {
         "colorbar": {
          "title": {
           "text": "block"
          }
         },
         "colorscale": [
          [
           0,
           "#0d0887"
          ],
          [
           0.1111111111111111,
           "#46039f"
          ],
          [
           0.2222222222222222,
           "#7201a8"
          ],
          [
           0.3333333333333333,
           "#9c179e"
          ],
          [
           0.4444444444444444,
           "#bd3786"
          ],
          [
           0.5555555555555556,
           "#d8576b"
          ],
          [
           0.6666666666666666,
           "#ed7953"
          ],
          [
           0.7777777777777778,
           "#fb9f3a"
          ],
          [
           0.8888888888888888,
           "#fdca26"
          ],
          [
           1,
           "#f0f921"
          ]
         ]
        },
        "legend": {
         "tracegroupgap": 0
        },
        "margin": {
         "t": 60
        },
        "template": {
         "data": {
          "bar": [
           {
            "error_x": {
             "color": "#2a3f5f"
            },
            "error_y": {
             "color": "#2a3f5f"
            },
            "marker": {
             "line": {
              "color": "#E5ECF6",
              "width": 0.5
             }
            },
            "type": "bar"
           }
          ],
          "barpolar": [
           {
            "marker": {
             "line": {
              "color": "#E5ECF6",
              "width": 0.5
             }
            },
            "type": "barpolar"
           }
          ],
          "carpet": [
           {
            "aaxis": {
             "endlinecolor": "#2a3f5f",
             "gridcolor": "white",
             "linecolor": "white",
             "minorgridcolor": "white",
             "startlinecolor": "#2a3f5f"
            },
            "baxis": {
             "endlinecolor": "#2a3f5f",
             "gridcolor": "white",
             "linecolor": "white",
             "minorgridcolor": "white",
             "startlinecolor": "#2a3f5f"
            },
            "type": "carpet"
           }
          ],
          "choropleth": [
           {
            "colorbar": {
             "outlinewidth": 0,
             "ticks": ""
            },
            "type": "choropleth"
           }
          ],
          "contour": [
           {
            "colorbar": {
             "outlinewidth": 0,
             "ticks": ""
            },
            "colorscale": [
             [
              0,
              "#0d0887"
             ],
             [
              0.1111111111111111,
              "#46039f"
             ],
             [
              0.2222222222222222,
              "#7201a8"
             ],
             [
              0.3333333333333333,
              "#9c179e"
             ],
             [
              0.4444444444444444,
              "#bd3786"
             ],
             [
              0.5555555555555556,
              "#d8576b"
             ],
             [
              0.6666666666666666,
              "#ed7953"
             ],
             [
              0.7777777777777778,
              "#fb9f3a"
             ],
             [
              0.8888888888888888,
              "#fdca26"
             ],
             [
              1,
              "#f0f921"
             ]
            ],
            "type": "contour"
           }
          ],
          "contourcarpet": [
           {
            "colorbar": {
             "outlinewidth": 0,
             "ticks": ""
            },
            "type": "contourcarpet"
           }
          ],
          "heatmap": [
           {
            "colorbar": {
             "outlinewidth": 0,
             "ticks": ""
            },
            "colorscale": [
             [
              0,
              "#0d0887"
             ],
             [
              0.1111111111111111,
              "#46039f"
             ],
             [
              0.2222222222222222,
              "#7201a8"
             ],
             [
              0.3333333333333333,
              "#9c179e"
             ],
             [
              0.4444444444444444,
              "#bd3786"
             ],
             [
              0.5555555555555556,
              "#d8576b"
             ],
             [
              0.6666666666666666,
              "#ed7953"
             ],
             [
              0.7777777777777778,
              "#fb9f3a"
             ],
             [
              0.8888888888888888,
              "#fdca26"
             ],
             [
              1,
              "#f0f921"
             ]
            ],
            "type": "heatmap"
           }
          ],
          "heatmapgl": [
           {
            "colorbar": {
             "outlinewidth": 0,
             "ticks": ""
            },
            "colorscale": [
             [
              0,
              "#0d0887"
             ],
             [
              0.1111111111111111,
              "#46039f"
             ],
             [
              0.2222222222222222,
              "#7201a8"
             ],
             [
              0.3333333333333333,
              "#9c179e"
             ],
             [
              0.4444444444444444,
              "#bd3786"
             ],
             [
              0.5555555555555556,
              "#d8576b"
             ],
             [
              0.6666666666666666,
              "#ed7953"
             ],
             [
              0.7777777777777778,
              "#fb9f3a"
             ],
             [
              0.8888888888888888,
              "#fdca26"
             ],
             [
              1,
              "#f0f921"
             ]
            ],
            "type": "heatmapgl"
           }
          ],
          "histogram": [
           {
            "marker": {
             "colorbar": {
              "outlinewidth": 0,
              "ticks": ""
             }
            },
            "type": "histogram"
           }
          ],
          "histogram2d": [
           {
            "colorbar": {
             "outlinewidth": 0,
             "ticks": ""
            },
            "colorscale": [
             [
              0,
              "#0d0887"
             ],
             [
              0.1111111111111111,
              "#46039f"
             ],
             [
              0.2222222222222222,
              "#7201a8"
             ],
             [
              0.3333333333333333,
              "#9c179e"
             ],
             [
              0.4444444444444444,
              "#bd3786"
             ],
             [
              0.5555555555555556,
              "#d8576b"
             ],
             [
              0.6666666666666666,
              "#ed7953"
             ],
             [
              0.7777777777777778,
              "#fb9f3a"
             ],
             [
              0.8888888888888888,
              "#fdca26"
             ],
             [
              1,
              "#f0f921"
             ]
            ],
            "type": "histogram2d"
           }
          ],
          "histogram2dcontour": [
           {
            "colorbar": {
             "outlinewidth": 0,
             "ticks": ""
            },
            "colorscale": [
             [
              0,
              "#0d0887"
             ],
             [
              0.1111111111111111,
              "#46039f"
             ],
             [
              0.2222222222222222,
              "#7201a8"
             ],
             [
              0.3333333333333333,
              "#9c179e"
             ],
             [
              0.4444444444444444,
              "#bd3786"
             ],
             [
              0.5555555555555556,
              "#d8576b"
             ],
             [
              0.6666666666666666,
              "#ed7953"
             ],
             [
              0.7777777777777778,
              "#fb9f3a"
             ],
             [
              0.8888888888888888,
              "#fdca26"
             ],
             [
              1,
              "#f0f921"
             ]
            ],
            "type": "histogram2dcontour"
           }
          ],
          "mesh3d": [
           {
            "colorbar": {
             "outlinewidth": 0,
             "ticks": ""
            },
            "type": "mesh3d"
           }
          ],
          "parcoords": [
           {
            "line": {
             "colorbar": {
              "outlinewidth": 0,
              "ticks": ""
             }
            },
            "type": "parcoords"
           }
          ],
          "pie": [
           {
            "automargin": true,
            "type": "pie"
           }
          ],
          "scatter": [
           {
            "marker": {
             "colorbar": {
              "outlinewidth": 0,
              "ticks": ""
             }
            },
            "type": "scatter"
           }
          ],
          "scatter3d": [
           {
            "line": {
             "colorbar": {
              "outlinewidth": 0,
              "ticks": ""
             }
            },
            "marker": {
             "colorbar": {
              "outlinewidth": 0,
              "ticks": ""
             }
            },
            "type": "scatter3d"
           }
          ],
          "scattercarpet": [
           {
            "marker": {
             "colorbar": {
              "outlinewidth": 0,
              "ticks": ""
             }
            },
            "type": "scattercarpet"
           }
          ],
          "scattergeo": [
           {
            "marker": {
             "colorbar": {
              "outlinewidth": 0,
              "ticks": ""
             }
            },
            "type": "scattergeo"
           }
          ],
          "scattergl": [
           {
            "marker": {
             "colorbar": {
              "outlinewidth": 0,
              "ticks": ""
             }
            },
            "type": "scattergl"
           }
          ],
          "scattermapbox": [
           {
            "marker": {
             "colorbar": {
              "outlinewidth": 0,
              "ticks": ""
             }
            },
            "type": "scattermapbox"
           }
          ],
          "scatterpolar": [
           {
            "marker": {
             "colorbar": {
              "outlinewidth": 0,
              "ticks": ""
             }
            },
            "type": "scatterpolar"
           }
          ],
          "scatterpolargl": [
           {
            "marker": {
             "colorbar": {
              "outlinewidth": 0,
              "ticks": ""
             }
            },
            "type": "scatterpolargl"
           }
          ],
          "scatterternary": [
           {
            "marker": {
             "colorbar": {
              "outlinewidth": 0,
              "ticks": ""
             }
            },
            "type": "scatterternary"
           }
          ],
          "surface": [
           {
            "colorbar": {
             "outlinewidth": 0,
             "ticks": ""
            },
            "colorscale": [
             [
              0,
              "#0d0887"
             ],
             [
              0.1111111111111111,
              "#46039f"
             ],
             [
              0.2222222222222222,
              "#7201a8"
             ],
             [
              0.3333333333333333,
              "#9c179e"
             ],
             [
              0.4444444444444444,
              "#bd3786"
             ],
             [
              0.5555555555555556,
              "#d8576b"
             ],
             [
              0.6666666666666666,
              "#ed7953"
             ],
             [
              0.7777777777777778,
              "#fb9f3a"
             ],
             [
              0.8888888888888888,
              "#fdca26"
             ],
             [
              1,
              "#f0f921"
             ]
            ],
            "type": "surface"
           }
          ],
          "table": [
           {
            "cells": {
             "fill": {
              "color": "#EBF0F8"
             },
             "line": {
              "color": "white"
             }
            },
            "header": {
             "fill": {
              "color": "#C8D4E3"
             },
             "line": {
              "color": "white"
             }
            },
            "type": "table"
           }
          ]
         },
         "layout": {
          "annotationdefaults": {
           "arrowcolor": "#2a3f5f",
           "arrowhead": 0,
           "arrowwidth": 1
          },
          "coloraxis": {
           "colorbar": {
            "outlinewidth": 0,
            "ticks": ""
           }
          },
          "colorscale": {
           "diverging": [
            [
             0,
             "#8e0152"
            ],
            [
             0.1,
             "#c51b7d"
            ],
            [
             0.2,
             "#de77ae"
            ],
            [
             0.3,
             "#f1b6da"
            ],
            [
             0.4,
             "#fde0ef"
            ],
            [
             0.5,
             "#f7f7f7"
            ],
            [
             0.6,
             "#e6f5d0"
            ],
            [
             0.7,
             "#b8e186"
            ],
            [
             0.8,
             "#7fbc41"
            ],
            [
             0.9,
             "#4d9221"
            ],
            [
             1,
             "#276419"
            ]
           ],
           "sequential": [
            [
             0,
             "#0d0887"
            ],
            [
             0.1111111111111111,
             "#46039f"
            ],
            [
             0.2222222222222222,
             "#7201a8"
            ],
            [
             0.3333333333333333,
             "#9c179e"
            ],
            [
             0.4444444444444444,
             "#bd3786"
            ],
            [
             0.5555555555555556,
             "#d8576b"
            ],
            [
             0.6666666666666666,
             "#ed7953"
            ],
            [
             0.7777777777777778,
             "#fb9f3a"
            ],
            [
             0.8888888888888888,
             "#fdca26"
            ],
            [
             1,
             "#f0f921"
            ]
           ],
           "sequentialminus": [
            [
             0,
             "#0d0887"
            ],
            [
             0.1111111111111111,
             "#46039f"
            ],
            [
             0.2222222222222222,
             "#7201a8"
            ],
            [
             0.3333333333333333,
             "#9c179e"
            ],
            [
             0.4444444444444444,
             "#bd3786"
            ],
            [
             0.5555555555555556,
             "#d8576b"
            ],
            [
             0.6666666666666666,
             "#ed7953"
            ],
            [
             0.7777777777777778,
             "#fb9f3a"
            ],
            [
             0.8888888888888888,
             "#fdca26"
            ],
            [
             1,
             "#f0f921"
            ]
           ]
          },
          "colorway": [
           "#636efa",
           "#EF553B",
           "#00cc96",
           "#ab63fa",
           "#FFA15A",
           "#19d3f3",
           "#FF6692",
           "#B6E880",
           "#FF97FF",
           "#FECB52"
          ],
          "font": {
           "color": "#2a3f5f"
          },
          "geo": {
           "bgcolor": "white",
           "lakecolor": "white",
           "landcolor": "#E5ECF6",
           "showlakes": true,
           "showland": true,
           "subunitcolor": "white"
          },
          "hoverlabel": {
           "align": "left"
          },
          "hovermode": "closest",
          "mapbox": {
           "style": "light"
          },
          "paper_bgcolor": "white",
          "plot_bgcolor": "#E5ECF6",
          "polar": {
           "angularaxis": {
            "gridcolor": "white",
            "linecolor": "white",
            "ticks": ""
           },
           "bgcolor": "#E5ECF6",
           "radialaxis": {
            "gridcolor": "white",
            "linecolor": "white",
            "ticks": ""
           }
          },
          "scene": {
           "xaxis": {
            "backgroundcolor": "#E5ECF6",
            "gridcolor": "white",
            "gridwidth": 2,
            "linecolor": "white",
            "showbackground": true,
            "ticks": "",
            "zerolinecolor": "white"
           },
           "yaxis": {
            "backgroundcolor": "#E5ECF6",
            "gridcolor": "white",
            "gridwidth": 2,
            "linecolor": "white",
            "showbackground": true,
            "ticks": "",
            "zerolinecolor": "white"
           },
           "zaxis": {
            "backgroundcolor": "#E5ECF6",
            "gridcolor": "white",
            "gridwidth": 2,
            "linecolor": "white",
            "showbackground": true,
            "ticks": "",
            "zerolinecolor": "white"
           }
          },
          "shapedefaults": {
           "line": {
            "color": "#2a3f5f"
           }
          },
          "ternary": {
           "aaxis": {
            "gridcolor": "white",
            "linecolor": "white",
            "ticks": ""
           },
           "baxis": {
            "gridcolor": "white",
            "linecolor": "white",
            "ticks": ""
           },
           "bgcolor": "#E5ECF6",
           "caxis": {
            "gridcolor": "white",
            "linecolor": "white",
            "ticks": ""
           }
          },
          "title": {
           "x": 0.05
          },
          "xaxis": {
           "automargin": true,
           "gridcolor": "white",
           "linecolor": "white",
           "ticks": "",
           "title": {
            "standoff": 15
           },
           "zerolinecolor": "white",
           "zerolinewidth": 2
          },
          "yaxis": {
           "automargin": true,
           "gridcolor": "white",
           "linecolor": "white",
           "ticks": "",
           "title": {
            "standoff": 15
           },
           "zerolinecolor": "white",
           "zerolinewidth": 2
          }
         }
        },
        "xaxis": {
         "anchor": "y",
         "domain": [
          0,
          1
         ],
         "type": "date"
        },
        "yaxis": {
         "anchor": "x",
         "domain": [
          0,
          1
         ],
         "title": {
          "text": "process"
         }
        }
       }
      }
     },
     "metadata": {}
    },
    {
     "output_type": "stream",
     "name": "stdout",
     "text": [
      "    0   1   2   3   4   5   6   7   8   9   10  11\n0    1   4   3   4   2   3   1   2   2   3   3   4\n1    2   4   2   1   4   1   3   4   3   1   2   4\n2    2   3   4   1   1   2   3   4   1   3   2   1\n3    1   2   3   1   3   1   2   2   0   0   0   0\n4    2   3   1   2   2   3   3   4   0   0   0   0\n5    4   1   3   4   3   1   2   4   0   0   0   0\n6    1   2   3   4   1   3   2   1   0   0   0   0\n7    3   1   2   2   0   0   0   0   0   0   0   0\n8    2   3   3   4   0   0   0   0   0   0   0   0\n9    3   1   2   4   0   0   0   0   0   0   0   0\n10   1   3   2   1   0   0   0   0   0   0   0   0\n11   0   0   0   0   0   0   0   0   0   0   0   0\n"
     ]
    }
   ],
   "source": [
    "from pandas import *\n",
    "import numpy as np\n",
    "import plotly.express as px\n",
    "from plotly.subplots import make_subplots\n",
    "import pandas as pd\n",
    "import datetime as dt\n",
    "\n",
    "matrix = [\n",
    "    [1, 4, 3, 4, 2, 3, 1, 2, 2, 3, 3, 4],\n",
    "    [2, 4, 2, 1, 4, 1, 3, 4, 3, 1, 2, 4],\n",
    "    [2, 3, 4, 1, 1, 2, 3, 4, 1, 3, 2, 1],\n",
    "    [1, 2, 3, 1, 3, 1, 2, 2, 0, 0, 0, 0],\n",
    "\n",
    "    [2, 3, 1, 2, 2, 3, 3, 4, 0, 0, 0, 0],\n",
    "    [4, 1, 3, 4, 3, 1, 2, 4, 0, 0, 0, 0],\n",
    "    [1, 2, 3, 4, 1, 3, 2, 1, 0, 0, 0, 0],\n",
    "    [3, 1, 2, 2, 0, 0, 0, 0, 0, 0, 0, 0],\n",
    "\n",
    "    [2, 3, 3, 4, 0, 0, 0, 0, 0, 0, 0, 0],\n",
    "    [3, 1, 2, 4, 0, 0, 0, 0, 0, 0, 0, 0],\n",
    "    [1, 3, 2, 1, 0, 0, 0, 0, 0, 0, 0, 0],\n",
    "    [0, 0, 0, 0, 0, 0, 0, 0, 0, 0, 0, 0],\n",
    "]\n",
    "\n",
    "\n",
    "\n",
    "\n",
    "\n",
    "fSyncMode = [\n",
    "\n",
    "    # the first process\n",
    "\n",
    "    dict(\n",
    "        process=1,\n",
    "        block=1,\n",
    "        duration=dt.datetime.fromtimestamp(1).strftime('%Y-%m-%d %H:%M:%S'),\n",
    "        start=dt.datetime.fromtimestamp(0).strftime('%Y-%m-%d %H:%M:%S')\n",
    "    ),\n",
    "    dict(\n",
    "        process=1,\n",
    "        block=2,\n",
    "        duration=dt.datetime.fromtimestamp(5).strftime('%Y-%m-%d %H:%M:%S'),\n",
    "        start=dt.datetime.fromtimestamp(1).strftime('%Y-%m-%d %H:%M:%S')\n",
    "    ),\n",
    "    dict(\n",
    "        process=1,\n",
    "        block=3,\n",
    "        duration=dt.datetime.fromtimestamp(8).strftime('%Y-%m-%d %H:%M:%S'),\n",
    "        start=dt.datetime.fromtimestamp(5).strftime('%Y-%m-%d %H:%M:%S')\n",
    "    ),\n",
    "    dict(\n",
    "        process=1,\n",
    "        block=4,\n",
    "        duration=dt.datetime.fromtimestamp(12).strftime('%Y-%m-%d %H:%M:%S'),\n",
    "        start=dt.datetime.fromtimestamp(8).strftime('%Y-%m-%d %H:%M:%S')\n",
    "    ),\n",
    "\n",
    "    ###\n",
    "\n",
    "    dict(\n",
    "        process=1,\n",
    "        block=1,\n",
    "        duration=dt.datetime.fromtimestamp(23).strftime('%Y-%m-%d %H:%M:%S'),\n",
    "        start=dt.datetime.fromtimestamp(21).strftime('%Y-%m-%d %H:%M:%S')\n",
    "    ),\n",
    "    dict(\n",
    "        process=1,\n",
    "        block=2,\n",
    "        duration=dt.datetime.fromtimestamp(26).strftime('%Y-%m-%d %H:%M:%S'),\n",
    "        start=dt.datetime.fromtimestamp(23).strftime('%Y-%m-%d %H:%M:%S')\n",
    "    ),\n",
    "    dict(\n",
    "        process=1,\n",
    "        block=3,\n",
    "        duration=dt.datetime.fromtimestamp(27).strftime('%Y-%m-%d %H:%M:%S'),\n",
    "        start=dt.datetime.fromtimestamp(26).strftime('%Y-%m-%d %H:%M:%S')\n",
    "    ),\n",
    "    dict(\n",
    "        process=1,\n",
    "        block=4,\n",
    "        duration=dt.datetime.fromtimestamp(29).strftime('%Y-%m-%d %H:%M:%S'),\n",
    "        start=dt.datetime.fromtimestamp(27).strftime('%Y-%m-%d %H:%M:%S')\n",
    "    ),\n",
    "\n",
    "    ###\n",
    "\n",
    "    dict(\n",
    "        process=1,\n",
    "        block=1,\n",
    "        duration=dt.datetime.fromtimestamp(43).strftime('%Y-%m-%d %H:%M:%S'),\n",
    "        start=dt.datetime.fromtimestamp(41).strftime('%Y-%m-%d %H:%M:%S')\n",
    "    ),\n",
    "    dict(\n",
    "        process=1,\n",
    "        block=2,\n",
    "        duration=dt.datetime.fromtimestamp(46).strftime('%Y-%m-%d %H:%M:%S'),\n",
    "        start=dt.datetime.fromtimestamp(43).strftime('%Y-%m-%d %H:%M:%S')\n",
    "    ),\n",
    "    dict(\n",
    "        process=1,\n",
    "        block=3,\n",
    "        duration=dt.datetime.fromtimestamp(49).strftime('%Y-%m-%d %H:%M:%S'),\n",
    "        start=dt.datetime.fromtimestamp(46).strftime('%Y-%m-%d %H:%M:%S')\n",
    "    ),\n",
    "    dict(\n",
    "        process=1,\n",
    "        block=4,\n",
    "        duration=dt.datetime.fromtimestamp(53).strftime('%Y-%m-%d %H:%M:%S'),\n",
    "        start=dt.datetime.fromtimestamp(49).strftime('%Y-%m-%d %H:%M:%S')\n",
    "    ),\n",
    "\n",
    "    # the second process\n",
    "\n",
    "    dict(\n",
    "        process=2,\n",
    "        block=1,\n",
    "        duration=dt.datetime.fromtimestamp(6).strftime('%Y-%m-%d %H:%M:%S'),\n",
    "        start=dt.datetime.fromtimestamp(4).strftime('%Y-%m-%d %H:%M:%S')\n",
    "    ),\n",
    "    dict(\n",
    "        process=2,\n",
    "        block=2,\n",
    "        duration=dt.datetime.fromtimestamp(6).strftime('%Y-%m-%d %H:%M:%S'),\n",
    "        start=dt.datetime.fromtimestamp(10).strftime('%Y-%m-%d %H:%M:%S')\n",
    "    ),\n",
    "    dict(\n",
    "        process=2,\n",
    "        block=3,\n",
    "        duration=dt.datetime.fromtimestamp(12).strftime('%Y-%m-%d %H:%M:%S'),\n",
    "        start=dt.datetime.fromtimestamp(10).strftime('%Y-%m-%d %H:%M:%S')\n",
    "    ),\n",
    "    dict(\n",
    "        process=2,\n",
    "        block=4,\n",
    "        duration=dt.datetime.fromtimestamp(13).strftime('%Y-%m-%d %H:%M:%S'),\n",
    "        start=dt.datetime.fromtimestamp(12).strftime('%Y-%m-%d %H:%M:%S')\n",
    "    ),\n",
    "\n",
    "    ###\n",
    "\n",
    "    dict(\n",
    "        process=2,\n",
    "        block=1,\n",
    "        duration=dt.datetime.fromtimestamp(27).strftime('%Y-%m-%d %H:%M:%S'),\n",
    "        start=dt.datetime.fromtimestamp(23).strftime('%Y-%m-%d %H:%M:%S')\n",
    "    ),\n",
    "    dict(\n",
    "        process=2,\n",
    "        block=2,\n",
    "        duration=dt.datetime.fromtimestamp(28).strftime('%Y-%m-%d %H:%M:%S'),\n",
    "        start=dt.datetime.fromtimestamp(27).strftime('%Y-%m-%d %H:%M:%S')\n",
    "    ),\n",
    "    dict(\n",
    "        process=2,\n",
    "        block=3,\n",
    "        duration=dt.datetime.fromtimestamp(31).strftime('%Y-%m-%d %H:%M:%S'),\n",
    "        start=dt.datetime.fromtimestamp(28).strftime('%Y-%m-%d %H:%M:%S')\n",
    "    ),\n",
    "    dict(\n",
    "        process=2,\n",
    "        block=4,\n",
    "        duration=dt.datetime.fromtimestamp(35).strftime('%Y-%m-%d %H:%M:%S'),\n",
    "        start=dt.datetime.fromtimestamp(31).strftime('%Y-%m-%d %H:%M:%S')\n",
    "    ),\n",
    "\n",
    "    ###\n",
    "\n",
    "    dict(\n",
    "        process=2,\n",
    "        block=1,\n",
    "        duration=dt.datetime.fromtimestamp(50).strftime('%Y-%m-%d %H:%M:%S'),\n",
    "        start=dt.datetime.fromtimestamp(47).strftime('%Y-%m-%d %H:%M:%S')\n",
    "    ),\n",
    "    dict(\n",
    "        process=2,\n",
    "        block=2,\n",
    "        duration=dt.datetime.fromtimestamp(51).strftime('%Y-%m-%d %H:%M:%S'),\n",
    "        start=dt.datetime.fromtimestamp(50).strftime('%Y-%m-%d %H:%M:%S')\n",
    "    ),\n",
    "    dict(\n",
    "        process=2,\n",
    "        block=3,\n",
    "        duration=dt.datetime.fromtimestamp(53).strftime('%Y-%m-%d %H:%M:%S'),\n",
    "        start=dt.datetime.fromtimestamp(51).strftime('%Y-%m-%d %H:%M:%S')\n",
    "    ),\n",
    "    dict(\n",
    "        process=2,\n",
    "        block=4,\n",
    "        duration=dt.datetime.fromtimestamp(57).strftime('%Y-%m-%d %H:%M:%S'),\n",
    "        start=dt.datetime.fromtimestamp(53).strftime('%Y-%m-%d %H:%M:%S')\n",
    "    ),\n",
    "\n",
    "    # the third process\n",
    "\n",
    "    dict(\n",
    "        process=3,\n",
    "        block=1,\n",
    "        duration=dt.datetime.fromtimestamp(10).strftime('%Y-%m-%d %H:%M:%S'),\n",
    "        start=dt.datetime.fromtimestamp(8).strftime('%Y-%m-%d %H:%M:%S')\n",
    "    ),\n",
    "    dict(\n",
    "        process=3,\n",
    "        block=2,\n",
    "        duration=dt.datetime.fromtimestamp(13).strftime('%Y-%m-%d %H:%M:%S'),\n",
    "        start=dt.datetime.fromtimestamp(10).strftime('%Y-%m-%d %H:%M:%S')\n",
    "    ),\n",
    "    dict(\n",
    "        process=3,\n",
    "        block=3,\n",
    "        duration=dt.datetime.fromtimestamp(17).strftime('%Y-%m-%d %H:%M:%S'),\n",
    "        start=dt.datetime.fromtimestamp(13).strftime('%Y-%m-%d %H:%M:%S')\n",
    "    ),\n",
    "    dict(\n",
    "        process=3,\n",
    "        block=4,\n",
    "        duration=dt.datetime.fromtimestamp(18).strftime('%Y-%m-%d %H:%M:%S'),\n",
    "        start=dt.datetime.fromtimestamp(17).strftime('%Y-%m-%d %H:%M:%S')\n",
    "    ),\n",
    "\n",
    "    ###\n",
    "\n",
    "    dict(\n",
    "        process=3,\n",
    "        block=1,\n",
    "        duration=dt.datetime.fromtimestamp(30).strftime('%Y-%m-%d %H:%M:%S'),\n",
    "        start=dt.datetime.fromtimestamp(29).strftime('%Y-%m-%d %H:%M:%S')\n",
    "    ),\n",
    "    dict(\n",
    "        process=3,\n",
    "        block=2,\n",
    "        duration=dt.datetime.fromtimestamp(32).strftime('%Y-%m-%d %H:%M:%S'),\n",
    "        start=dt.datetime.fromtimestamp(30).strftime('%Y-%m-%d %H:%M:%S')\n",
    "    ),\n",
    "    dict(\n",
    "        process=3,\n",
    "        block=3,\n",
    "        duration=dt.datetime.fromtimestamp(35).strftime('%Y-%m-%d %H:%M:%S'),\n",
    "        start=dt.datetime.fromtimestamp(32).strftime('%Y-%m-%d %H:%M:%S')\n",
    "    ),\n",
    "    dict(\n",
    "        process=3,\n",
    "        block=4,\n",
    "        duration=dt.datetime.fromtimestamp(39).strftime('%Y-%m-%d %H:%M:%S'),\n",
    "        start=dt.datetime.fromtimestamp(35).strftime('%Y-%m-%d %H:%M:%S')\n",
    "    ),\n",
    "\n",
    "    ###\n",
    "\n",
    "    dict(\n",
    "        process=3,\n",
    "        block=1,\n",
    "        duration=dt.datetime.fromtimestamp(52).strftime('%Y-%m-%d %H:%M:%S'),\n",
    "        start=dt.datetime.fromtimestamp(51).strftime('%Y-%m-%d %H:%M:%S')\n",
    "    ),\n",
    "    dict(\n",
    "        process=3,\n",
    "        block=2,\n",
    "        duration=dt.datetime.fromtimestamp(55).strftime('%Y-%m-%d %H:%M:%S'),\n",
    "        start=dt.datetime.fromtimestamp(52).strftime('%Y-%m-%d %H:%M:%S')\n",
    "    ),\n",
    "    dict(\n",
    "        process=3,\n",
    "        block=3,\n",
    "        duration=dt.datetime.fromtimestamp(57).strftime('%Y-%m-%d %H:%M:%S'),\n",
    "        start=dt.datetime.fromtimestamp(55).strftime('%Y-%m-%d %H:%M:%S')\n",
    "    ),\n",
    "    dict(\n",
    "        process=3,\n",
    "        block=4,\n",
    "        duration=dt.datetime.fromtimestamp(58).strftime('%Y-%m-%d %H:%M:%S'),\n",
    "        start=dt.datetime.fromtimestamp(57).strftime('%Y-%m-%d %H:%M:%S')\n",
    "    ),\n",
    "\n",
    "    # the fourth process\n",
    "\n",
    "    dict(\n",
    "        process=4,\n",
    "        block=1,\n",
    "        duration=dt.datetime.fromtimestamp(15).strftime('%Y-%m-%d %H:%M:%S'),\n",
    "        start=dt.datetime.fromtimestamp(14).strftime('%Y-%m-%d %H:%M:%S')\n",
    "    ),\n",
    "    dict(\n",
    "        process=4,\n",
    "        block=2,\n",
    "        duration=dt.datetime.fromtimestamp(17).strftime('%Y-%m-%d %H:%M:%S'),\n",
    "        start=dt.datetime.fromtimestamp(15).strftime('%Y-%m-%d %H:%M:%S')\n",
    "    ),\n",
    "    dict(\n",
    "        process=4,\n",
    "        block=3,\n",
    "        duration=dt.datetime.fromtimestamp(20).strftime('%Y-%m-%d %H:%M:%S'),\n",
    "        start=dt.datetime.fromtimestamp(17).strftime('%Y-%m-%d %H:%M:%S')\n",
    "    ),\n",
    "    dict(\n",
    "        process=4,\n",
    "        block=4,\n",
    "        duration=dt.datetime.fromtimestamp(21).strftime('%Y-%m-%d %H:%M:%S'),\n",
    "        start=dt.datetime.fromtimestamp(20).strftime('%Y-%m-%d %H:%M:%S')\n",
    "    ),\n",
    "\n",
    "    ###\n",
    "\n",
    "    dict(\n",
    "        process=4,\n",
    "        block=1,\n",
    "        duration=dt.datetime.fromtimestamp(36).strftime('%Y-%m-%d %H:%M:%S'),\n",
    "        start=dt.datetime.fromtimestamp(33).strftime('%Y-%m-%d %H:%M:%S')\n",
    "    ),\n",
    "    dict(\n",
    "        process=4,\n",
    "        block=2,\n",
    "        duration=dt.datetime.fromtimestamp(37).strftime('%Y-%m-%d %H:%M:%S'),\n",
    "        start=dt.datetime.fromtimestamp(36).strftime('%Y-%m-%d %H:%M:%S')\n",
    "    ),\n",
    "    dict(\n",
    "        process=4,\n",
    "        block=3,\n",
    "        duration=dt.datetime.fromtimestamp(39).strftime('%Y-%m-%d %H:%M:%S'),\n",
    "        start=dt.datetime.fromtimestamp(37).strftime('%Y-%m-%d %H:%M:%S')\n",
    "    ),\n",
    "    dict(\n",
    "        process=4,\n",
    "        block=4,\n",
    "        duration=dt.datetime.fromtimestamp(41).strftime('%Y-%m-%d %H:%M:%S'),\n",
    "        start=dt.datetime.fromtimestamp(39).strftime('%Y-%m-%d %H:%M:%S')\n",
    "    ),\n",
    "]\n",
    "c_df = pd.DataFrame(fSyncMode)\n",
    "c_fig = px.timeline(c_df, x_start=\"start\", x_end=\"duration\", y=\"process\", color=\"block\")\n",
    "c_fig.show()\n",
    "\n",
    "fSyncMode = [\n",
    "\n",
    "    # the first process\n",
    "\n",
    "    dict(\n",
    "        process=1,\n",
    "        block=1,\n",
    "        duration=dt.datetime.fromtimestamp(1).strftime('%Y-%m-%d %H:%M:%S'),\n",
    "        start=dt.datetime.fromtimestamp(0).strftime('%Y-%m-%d %H:%M:%S')\n",
    "    ),\n",
    "    dict(\n",
    "        process=1,\n",
    "        block=2,\n",
    "        duration=dt.datetime.fromtimestamp(5).strftime('%Y-%m-%d %H:%M:%S'),\n",
    "        start=dt.datetime.fromtimestamp(1).strftime('%Y-%m-%d %H:%M:%S')\n",
    "    ),\n",
    "    dict(\n",
    "        process=1,\n",
    "        block=3,\n",
    "        duration=dt.datetime.fromtimestamp(8).strftime('%Y-%m-%d %H:%M:%S'),\n",
    "        start=dt.datetime.fromtimestamp(5).strftime('%Y-%m-%d %H:%M:%S')\n",
    "    ),\n",
    "    dict(\n",
    "        process=1,\n",
    "        block=4,\n",
    "        duration=dt.datetime.fromtimestamp(12).strftime('%Y-%m-%d %H:%M:%S'),\n",
    "        start=dt.datetime.fromtimestamp(8).strftime('%Y-%m-%d %H:%M:%S')\n",
    "    ),\n",
    "\n",
    "    ###\n",
    "\n",
    "    dict(\n",
    "        process=1,\n",
    "        block=1,\n",
    "        duration=dt.datetime.fromtimestamp(14).strftime('%Y-%m-%d %H:%M:%S'),\n",
    "        start=dt.datetime.fromtimestamp(12).strftime('%Y-%m-%d %H:%M:%S')\n",
    "    ),\n",
    "    dict(\n",
    "        process=1,\n",
    "        block=2,\n",
    "        duration=dt.datetime.fromtimestamp(17).strftime('%Y-%m-%d %H:%M:%S'),\n",
    "        start=dt.datetime.fromtimestamp(14).strftime('%Y-%m-%d %H:%M:%S')\n",
    "    ),\n",
    "    dict(\n",
    "        process=1,\n",
    "        block=3,\n",
    "        duration=dt.datetime.fromtimestamp(18).strftime('%Y-%m-%d %H:%M:%S'),\n",
    "        start=dt.datetime.fromtimestamp(17).strftime('%Y-%m-%d %H:%M:%S')\n",
    "    ),\n",
    "    dict(\n",
    "        process=1,\n",
    "        block=4,\n",
    "        duration=dt.datetime.fromtimestamp(20).strftime('%Y-%m-%d %H:%M:%S'),\n",
    "        start=dt.datetime.fromtimestamp(18).strftime('%Y-%m-%d %H:%M:%S')\n",
    "    ),\n",
    "\n",
    "    ###\n",
    "\n",
    "    dict(\n",
    "        process=1,\n",
    "        block=1,\n",
    "        duration=dt.datetime.fromtimestamp(22).strftime('%Y-%m-%d %H:%M:%S'),\n",
    "        start=dt.datetime.fromtimestamp(20).strftime('%Y-%m-%d %H:%M:%S')\n",
    "    ),\n",
    "    dict(\n",
    "        process=1,\n",
    "        block=2,\n",
    "        duration=dt.datetime.fromtimestamp(25).strftime('%Y-%m-%d %H:%M:%S'),\n",
    "        start=dt.datetime.fromtimestamp(22).strftime('%Y-%m-%d %H:%M:%S')\n",
    "    ),\n",
    "    dict(\n",
    "        process=1,\n",
    "        block=3,\n",
    "        duration=dt.datetime.fromtimestamp(28).strftime('%Y-%m-%d %H:%M:%S'),\n",
    "        start=dt.datetime.fromtimestamp(25).strftime('%Y-%m-%d %H:%M:%S')\n",
    "    ),\n",
    "    dict(\n",
    "        process=1,\n",
    "        block=4,\n",
    "        duration=dt.datetime.fromtimestamp(32).strftime('%Y-%m-%d %H:%M:%S'),\n",
    "        start=dt.datetime.fromtimestamp(28).strftime('%Y-%m-%d %H:%M:%S')\n",
    "    ),\n",
    "\n",
    "    # the second process\n",
    "\n",
    "    dict(\n",
    "        process=2,\n",
    "        block=1,\n",
    "        duration=dt.datetime.fromtimestamp(6).strftime('%Y-%m-%d %H:%M:%S'),\n",
    "        start=dt.datetime.fromtimestamp(4).strftime('%Y-%m-%d %H:%M:%S')\n",
    "    ),\n",
    "    dict(\n",
    "        process=2,\n",
    "        block=2,\n",
    "        duration=dt.datetime.fromtimestamp(6).strftime('%Y-%m-%d %H:%M:%S'),\n",
    "        start=dt.datetime.fromtimestamp(10).strftime('%Y-%m-%d %H:%M:%S')\n",
    "    ),\n",
    "    dict(\n",
    "        process=2,\n",
    "        block=3,\n",
    "        duration=dt.datetime.fromtimestamp(12).strftime('%Y-%m-%d %H:%M:%S'),\n",
    "        start=dt.datetime.fromtimestamp(10).strftime('%Y-%m-%d %H:%M:%S')\n",
    "    ),\n",
    "    dict(\n",
    "        process=2,\n",
    "        block=4,\n",
    "        duration=dt.datetime.fromtimestamp(13).strftime('%Y-%m-%d %H:%M:%S'),\n",
    "        start=dt.datetime.fromtimestamp(12).strftime('%Y-%m-%d %H:%M:%S')\n",
    "    ),\n",
    "\n",
    "    ###\n",
    "\n",
    "    dict(\n",
    "        process=2,\n",
    "        block=1,\n",
    "        duration=dt.datetime.fromtimestamp(18).strftime('%Y-%m-%d %H:%M:%S'),\n",
    "        start=dt.datetime.fromtimestamp(14).strftime('%Y-%m-%d %H:%M:%S')\n",
    "    ),\n",
    "    dict(\n",
    "        process=2,\n",
    "        block=2,\n",
    "        duration=dt.datetime.fromtimestamp(19).strftime('%Y-%m-%d %H:%M:%S'),\n",
    "        start=dt.datetime.fromtimestamp(18).strftime('%Y-%m-%d %H:%M:%S')\n",
    "    ),\n",
    "    dict(\n",
    "        process=2,\n",
    "        block=3,\n",
    "        duration=dt.datetime.fromtimestamp(22).strftime('%Y-%m-%d %H:%M:%S'),\n",
    "        start=dt.datetime.fromtimestamp(19).strftime('%Y-%m-%d %H:%M:%S')\n",
    "    ),\n",
    "    dict(\n",
    "        process=2,\n",
    "        block=4,\n",
    "        duration=dt.datetime.fromtimestamp(26).strftime('%Y-%m-%d %H:%M:%S'),\n",
    "        start=dt.datetime.fromtimestamp(22).strftime('%Y-%m-%d %H:%M:%S')\n",
    "    ),\n",
    "\n",
    "    ###\n",
    "\n",
    "    dict(\n",
    "        process=2,\n",
    "        block=1,\n",
    "        duration=dt.datetime.fromtimestamp(29).strftime('%Y-%m-%d %H:%M:%S'),\n",
    "        start=dt.datetime.fromtimestamp(26).strftime('%Y-%m-%d %H:%M:%S')\n",
    "    ),\n",
    "    dict(\n",
    "        process=2,\n",
    "        block=2,\n",
    "        duration=dt.datetime.fromtimestamp(30).strftime('%Y-%m-%d %H:%M:%S'),\n",
    "        start=dt.datetime.fromtimestamp(29).strftime('%Y-%m-%d %H:%M:%S')\n",
    "    ),\n",
    "    dict(\n",
    "        process=2,\n",
    "        block=3,\n",
    "        duration=dt.datetime.fromtimestamp(32).strftime('%Y-%m-%d %H:%M:%S'),\n",
    "        start=dt.datetime.fromtimestamp(30).strftime('%Y-%m-%d %H:%M:%S')\n",
    "    ),\n",
    "    dict(\n",
    "        process=2,\n",
    "        block=4,\n",
    "        duration=dt.datetime.fromtimestamp(36).strftime('%Y-%m-%d %H:%M:%S'),\n",
    "        start=dt.datetime.fromtimestamp(32).strftime('%Y-%m-%d %H:%M:%S')\n",
    "    ),\n",
    "\n",
    "    # the third process\n",
    "\n",
    "    dict(\n",
    "        process=3,\n",
    "        block=1,\n",
    "        duration=dt.datetime.fromtimestamp(10).strftime('%Y-%m-%d %H:%M:%S'),\n",
    "        start=dt.datetime.fromtimestamp(8).strftime('%Y-%m-%d %H:%M:%S')\n",
    "    ),\n",
    "    dict(\n",
    "        process=3,\n",
    "        block=2,\n",
    "        duration=dt.datetime.fromtimestamp(13).strftime('%Y-%m-%d %H:%M:%S'),\n",
    "        start=dt.datetime.fromtimestamp(10).strftime('%Y-%m-%d %H:%M:%S')\n",
    "    ),\n",
    "    dict(\n",
    "        process=3,\n",
    "        block=3,\n",
    "        duration=dt.datetime.fromtimestamp(17).strftime('%Y-%m-%d %H:%M:%S'),\n",
    "        start=dt.datetime.fromtimestamp(13).strftime('%Y-%m-%d %H:%M:%S')\n",
    "    ),\n",
    "    dict(\n",
    "        process=3,\n",
    "        block=4,\n",
    "        duration=dt.datetime.fromtimestamp(18).strftime('%Y-%m-%d %H:%M:%S'),\n",
    "        start=dt.datetime.fromtimestamp(17).strftime('%Y-%m-%d %H:%M:%S')\n",
    "    ),\n",
    "\n",
    "    ###\n",
    "\n",
    "    dict(\n",
    "        process=3,\n",
    "        block=1,\n",
    "        duration=dt.datetime.fromtimestamp(21).strftime('%Y-%m-%d %H:%M:%S'),\n",
    "        start=dt.datetime.fromtimestamp(20).strftime('%Y-%m-%d %H:%M:%S')\n",
    "    ),\n",
    "    dict(\n",
    "        process=3,\n",
    "        block=2,\n",
    "        duration=dt.datetime.fromtimestamp(23).strftime('%Y-%m-%d %H:%M:%S'),\n",
    "        start=dt.datetime.fromtimestamp(21).strftime('%Y-%m-%d %H:%M:%S')\n",
    "    ),\n",
    "    dict(\n",
    "        process=3,\n",
    "        block=3,\n",
    "        duration=dt.datetime.fromtimestamp(26).strftime('%Y-%m-%d %H:%M:%S'),\n",
    "        start=dt.datetime.fromtimestamp(23).strftime('%Y-%m-%d %H:%M:%S')\n",
    "    ),\n",
    "    dict(\n",
    "        process=3,\n",
    "        block=4,\n",
    "        duration=dt.datetime.fromtimestamp(30).strftime('%Y-%m-%d %H:%M:%S'),\n",
    "        start=dt.datetime.fromtimestamp(26).strftime('%Y-%m-%d %H:%M:%S')\n",
    "    ),\n",
    "\n",
    "    ###\n",
    "\n",
    "    dict(\n",
    "        process=3,\n",
    "        block=1,\n",
    "        duration=dt.datetime.fromtimestamp(31).strftime('%Y-%m-%d %H:%M:%S'),\n",
    "        start=dt.datetime.fromtimestamp(30).strftime('%Y-%m-%d %H:%M:%S')\n",
    "    ),\n",
    "    dict(\n",
    "        process=3,\n",
    "        block=2,\n",
    "        duration=dt.datetime.fromtimestamp(34).strftime('%Y-%m-%d %H:%M:%S'),\n",
    "        start=dt.datetime.fromtimestamp(31).strftime('%Y-%m-%d %H:%M:%S')\n",
    "    ),\n",
    "    dict(\n",
    "        process=3,\n",
    "        block=3,\n",
    "        duration=dt.datetime.fromtimestamp(36).strftime('%Y-%m-%d %H:%M:%S'),\n",
    "        start=dt.datetime.fromtimestamp(34).strftime('%Y-%m-%d %H:%M:%S')\n",
    "    ),\n",
    "    dict(\n",
    "        process=3,\n",
    "        block=4,\n",
    "        duration=dt.datetime.fromtimestamp(37).strftime('%Y-%m-%d %H:%M:%S'),\n",
    "        start=dt.datetime.fromtimestamp(36).strftime('%Y-%m-%d %H:%M:%S')\n",
    "    ),\n",
    "\n",
    "    # the fourth process\n",
    "\n",
    "    dict(\n",
    "        process=4,\n",
    "        block=1,\n",
    "        duration=dt.datetime.fromtimestamp(15).strftime('%Y-%m-%d %H:%M:%S'),\n",
    "        start=dt.datetime.fromtimestamp(14).strftime('%Y-%m-%d %H:%M:%S')\n",
    "    ),\n",
    "    dict(\n",
    "        process=4,\n",
    "        block=2,\n",
    "        duration=dt.datetime.fromtimestamp(17).strftime('%Y-%m-%d %H:%M:%S'),\n",
    "        start=dt.datetime.fromtimestamp(15).strftime('%Y-%m-%d %H:%M:%S')\n",
    "    ),\n",
    "    dict(\n",
    "        process=4,\n",
    "        block=3,\n",
    "        duration=dt.datetime.fromtimestamp(20).strftime('%Y-%m-%d %H:%M:%S'),\n",
    "        start=dt.datetime.fromtimestamp(17).strftime('%Y-%m-%d %H:%M:%S')\n",
    "    ),\n",
    "    dict(\n",
    "        process=4,\n",
    "        block=4,\n",
    "        duration=dt.datetime.fromtimestamp(21).strftime('%Y-%m-%d %H:%M:%S'),\n",
    "        start=dt.datetime.fromtimestamp(20).strftime('%Y-%m-%d %H:%M:%S')\n",
    "    ),\n",
    "\n",
    "    ###\n",
    "\n",
    "    dict(\n",
    "        process=4,\n",
    "        block=1,\n",
    "        duration=dt.datetime.fromtimestamp(27).strftime('%Y-%m-%d %H:%M:%S'),\n",
    "        start=dt.datetime.fromtimestamp(24).strftime('%Y-%m-%d %H:%M:%S')\n",
    "    ),\n",
    "    dict(\n",
    "        process=4,\n",
    "        block=2,\n",
    "        duration=dt.datetime.fromtimestamp(28).strftime('%Y-%m-%d %H:%M:%S'),\n",
    "        start=dt.datetime.fromtimestamp(27).strftime('%Y-%m-%d %H:%M:%S')\n",
    "    ),\n",
    "    dict(\n",
    "        process=4,\n",
    "        block=3,\n",
    "        duration=dt.datetime.fromtimestamp(30).strftime('%Y-%m-%d %H:%M:%S'),\n",
    "        start=dt.datetime.fromtimestamp(28).strftime('%Y-%m-%d %H:%M:%S')\n",
    "    ),\n",
    "    dict(\n",
    "        process=4,\n",
    "        block=4,\n",
    "        duration=dt.datetime.fromtimestamp(32).strftime('%Y-%m-%d %H:%M:%S'),\n",
    "        start=dt.datetime.fromtimestamp(30).strftime('%Y-%m-%d %H:%M:%S')\n",
    "    ),\n",
    "]\n",
    "c_df = pd.DataFrame(fSyncMode)\n",
    "c_fig = px.timeline(c_df, x_start=\"start\", x_end=\"duration\", y=\"process\", color=\"block\")\n",
    "c_fig.show()\n",
    "\n",
    "print(DataFrame(matrix))\n"
   ]
  },
  {
   "cell_type": "code",
   "execution_count": null,
   "metadata": {},
   "outputs": [],
   "source": []
  }
 ]
}